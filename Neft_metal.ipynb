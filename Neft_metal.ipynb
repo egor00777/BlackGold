{
  "nbformat": 4,
  "nbformat_minor": 0,
  "metadata": {
    "colab": {
      "provenance": [],
      "gpuType": "T4"
    },
    "kernelspec": {
      "name": "python3",
      "display_name": "Python 3"
    },
    "language_info": {
      "name": "python"
    },
    "accelerator": "GPU"
  },
  "cells": [
    {
      "cell_type": "code",
      "execution_count": null,
      "metadata": {
        "id": "PDLubwmvfhBa"
      },
      "outputs": [],
      "source": [
        "import math\n",
        "import numpy as np\n",
        "import pandas as pd\n",
        "import cv2\n",
        "import random\n",
        "\n",
        "class Neft():\n",
        "    def __init__(self,photo):\n",
        "        self.DATA=self.matrix(photo)\n",
        "    def cur_price(self,h):\n",
        "        p = 0.85\n",
        "        k = 12.0 #эффективная проницаемость, мД (милиДарси)\n",
        "\n",
        "        SRPLast = 270.0 #среднее пластовое давление, атм (атмосфер)\n",
        "        zaboinoe_dav = 100.0 #забойное давление давление внизу скважины , атм\n",
        "        vazkost = 1.4 #вязкость нефти, сП (сантиПуаз)\n",
        "        obim_Koof = 1.15 #объёмный коэффициент нефти, д. ед.\n",
        "        Rk = 800.0 #радиус контура объёма, из которого добывает скважина нефть, м ????????????\n",
        "        Rc = 0.1 #радиус скважины, м\n",
        "        SkinFack = 0.0 #скин − фактор (показывает ухудшение фильтрационных свойств пласта вблизи скважины)\n",
        "\n",
        "        q = (p*k*h*(SRPLast - zaboinoe_dav))/(18.41*vazkost*obim_Koof*(math.log(Rk/Rc)-0.5+SkinFack))\n",
        "\n",
        "\n",
        "        def qt(koofB,koofD):\n",
        "            massiv = []\n",
        "\n",
        "            for shagVR in range(480):\n",
        "                QT = q/(1 + koofB * koofD * shagVR)**(1/koofB)\n",
        "                massiv.append(QT*30)\n",
        "            return massiv\n",
        "\n",
        "\n",
        "        massiv=qt(1.4,0.12)\n",
        "        price=[]\n",
        "        price_tonna=53_135.006\n",
        "        for n in range(40):\n",
        "            try:\n",
        "                summa=sum([massiv[i] for i in range(n*12,n*12+12)])\n",
        "                cost=summa*price_tonna\n",
        "\n",
        "                k=1/((1+0.17)**n)\n",
        "                price.append(k*cost)\n",
        "            except:\n",
        "                break\n",
        "\n",
        "        last_answer=sum(price)-60_000_000*9\n",
        "        return last_answer\n",
        "\n",
        "    def matrix(self,photo):\n",
        "        img = cv2.imread(photo)\n",
        "        hsv = cv2.cvtColor(img, cv2.COLOR_BGR2HSV)\n",
        "        df = pd.DataFrame([list(l) for l in hsv]).stack().apply(pd.Series)\n",
        "        df.index.name = 'st'\n",
        "        df.columns = list('RGB')\n",
        "\n",
        "        df['color']= df.apply (self.f, axis=1)\n",
        "\n",
        "        data=[[_ for _ in range(926)] for _ in range(664)]\n",
        "        for i in range(len(data)):\n",
        "            for j in range(len(data[0])):\n",
        "                data[i][j]=df.loc[i,j]['color']\n",
        "\n",
        "        data_sector_j=[]\n",
        "        for i in range(664):\n",
        "            for j in range(926//32):\n",
        "                data_sector_j+=[sum(data[i][j*32:j*32+32])//32]\n",
        "\n",
        "        data_sector_i=[]\n",
        "        for x in range(0,len(data_sector_j),28):\n",
        "            data_sector_i+=[data_sector_j[x:x+28]]\n",
        "\n",
        "        data_sector=[]\n",
        "        co=0\n",
        "        cash=np.array([0 for _ in range(28)])\n",
        "        for x in data_sector_i:\n",
        "            x = np.array(x)\n",
        "            if co==32:\n",
        "                co=0\n",
        "                data_sector+=[list(cash)]\n",
        "                cash=np.array([0 for _ in range(28)])\n",
        "            cash+=x\n",
        "            co+=1\n",
        "\n",
        "        for i in range(len(data_sector)):\n",
        "            for j in range(len(data_sector[0])):\n",
        "                data_sector[i][j]//=32\n",
        "        return data_sector\n",
        "\n",
        "    def f(self,row):\n",
        "        if row['R']>140: return 0\n",
        "        elif row['R']>100 : return 10\n",
        "        elif row['R']>80 : return 20\n",
        "\n",
        "        elif row['R']>35 : return 30\n",
        "\n",
        "        elif row['R']>20 : return 40\n",
        "        else: return 50\n",
        "\n",
        "    def answering(self,data_mine):\n",
        "\n",
        "        data=self.DATA\n",
        "\n",
        "        answer=0\n",
        "        for i in range(len(data)):\n",
        "            for j in range(len(data[0])):\n",
        "                if data_mine[i][j]:\n",
        "                    answer+=self.cur_price(data[i][j])\n",
        "        return answer\n",
        "\n",
        "    def main(self,n : int=100):\n",
        "        data=self.DATA\n",
        "        data_mine=[[False for _ in range(len(data[0]))] for _ in range(len(data))]\n",
        "        state = data_mine.copy()\n",
        "        temp = 1.0\n",
        "\n",
        "        i = 0\n",
        "        while (i<n):\n",
        "            temp *= 0.9\n",
        "            i+=1\n",
        "            new_state = state.copy()\n",
        "            a = len(state)\n",
        "            b = len(state[0])\n",
        "            ra = random.randint(0,a-1)\n",
        "            rb = random.randint(0,b-1)\n",
        "\n",
        "            state[ra][rb] = not state[ra][rb]\n",
        "\n",
        "\n",
        "\n",
        "\n",
        "\n",
        "\n",
        "\n",
        "            f_old =self.answering(state)\n",
        "            f_new = self.answering(new_state)\n",
        "            if f_old== f_new: continue\n",
        "            center_old=sum(sum(x[7:-7]) for x in state[5:-5])\n",
        "            center_new=sum(sum(x[7:-7]) for x in new_state[5:-5])\n",
        "            if (center_new>center_old):\n",
        "                state = new_state.copy()\n",
        "                continue\n",
        "            if (random.uniform(0,1)< math.exp(-(f_old - f_new)/temp) or center_new>center_old):\n",
        "                state = new_state.copy()\n",
        "                continue\n",
        "\n",
        "        return self.answering(state),state\n",
        "\n",
        "\n"
      ]
    },
    {
      "cell_type": "code",
      "source": [
        "neft=Neft('new_test_photo.png')\n"
      ],
      "metadata": {
        "id": "FukQC8nwfuQz"
      },
      "execution_count": null,
      "outputs": []
    },
    {
      "cell_type": "code",
      "source": [],
      "metadata": {
        "id": "Casp7L8-gnoh"
      },
      "execution_count": null,
      "outputs": []
    },
    {
      "cell_type": "code",
      "source": [
        "price,state=neft.main(800)\n",
        "for _ in state:\n",
        "    for a in _:\n",
        "        if a==True:\n",
        "            print(1,end='')\n",
        "        else :\n",
        "            print(0,end='')\n",
        "    print()\n",
        "\n",
        "print()\n",
        "print(price)"
      ],
      "metadata": {
        "colab": {
          "base_uri": "https://localhost:8080/",
          "height": 231
        },
        "id": "rqfUnToPgGpE",
        "outputId": "36aa8bf5-78ce-4f46-f36c-b28b3819f681"
      },
      "execution_count": 1,
      "outputs": [
        {
          "output_type": "error",
          "ename": "NameError",
          "evalue": "name 'neft' is not defined",
          "traceback": [
            "\u001b[0;31m---------------------------------------------------------------------------\u001b[0m",
            "\u001b[0;31mNameError\u001b[0m                                 Traceback (most recent call last)",
            "\u001b[0;32m<ipython-input-1-744cb221c8f5>\u001b[0m in \u001b[0;36m<cell line: 1>\u001b[0;34m()\u001b[0m\n\u001b[0;32m----> 1\u001b[0;31m \u001b[0mprice\u001b[0m\u001b[0;34m,\u001b[0m\u001b[0mstate\u001b[0m\u001b[0;34m=\u001b[0m\u001b[0mneft\u001b[0m\u001b[0;34m.\u001b[0m\u001b[0mmain\u001b[0m\u001b[0;34m(\u001b[0m\u001b[0;36m800\u001b[0m\u001b[0;34m)\u001b[0m\u001b[0;34m\u001b[0m\u001b[0;34m\u001b[0m\u001b[0m\n\u001b[0m\u001b[1;32m      2\u001b[0m \u001b[0;32mfor\u001b[0m \u001b[0m_\u001b[0m \u001b[0;32min\u001b[0m \u001b[0mstate\u001b[0m\u001b[0;34m:\u001b[0m\u001b[0;34m\u001b[0m\u001b[0;34m\u001b[0m\u001b[0m\n\u001b[1;32m      3\u001b[0m     \u001b[0;32mfor\u001b[0m \u001b[0ma\u001b[0m \u001b[0;32min\u001b[0m \u001b[0m_\u001b[0m\u001b[0;34m:\u001b[0m\u001b[0;34m\u001b[0m\u001b[0;34m\u001b[0m\u001b[0m\n\u001b[1;32m      4\u001b[0m         \u001b[0;32mif\u001b[0m \u001b[0ma\u001b[0m\u001b[0;34m==\u001b[0m\u001b[0;32mTrue\u001b[0m\u001b[0;34m:\u001b[0m\u001b[0;34m\u001b[0m\u001b[0;34m\u001b[0m\u001b[0m\n\u001b[1;32m      5\u001b[0m             \u001b[0mprint\u001b[0m\u001b[0;34m(\u001b[0m\u001b[0;36m1\u001b[0m\u001b[0;34m,\u001b[0m\u001b[0mend\u001b[0m\u001b[0;34m=\u001b[0m\u001b[0;34m''\u001b[0m\u001b[0;34m)\u001b[0m\u001b[0;34m\u001b[0m\u001b[0;34m\u001b[0m\u001b[0m\n",
            "\u001b[0;31mNameError\u001b[0m: name 'neft' is not defined"
          ]
        }
      ]
    },
    {
      "cell_type": "code",
      "source": [
        "sum(sum(x[7:-7]) for x in state[5:-5])"
      ],
      "metadata": {
        "colab": {
          "base_uri": "https://localhost:8080/"
        },
        "id": "lu0lOrobg1uT",
        "outputId": "e4a79f7d-bfd4-470d-e91e-1916f494ed66"
      },
      "execution_count": null,
      "outputs": [
        {
          "output_type": "execute_result",
          "data": {
            "text/plain": [
              "72"
            ]
          },
          "metadata": {},
          "execution_count": 51
        }
      ]
    },
    {
      "cell_type": "code",
      "source": [],
      "metadata": {
        "id": "deiV5z2QkxVg"
      },
      "execution_count": null,
      "outputs": []
    },
    {
      "cell_type": "code",
      "source": [],
      "metadata": {
        "id": "3OXMg1SDqRqK"
      },
      "execution_count": null,
      "outputs": []
    },
    {
      "cell_type": "code",
      "source": [],
      "metadata": {
        "id": "ORoOr66G0ZCI"
      },
      "execution_count": null,
      "outputs": []
    }
  ]
}