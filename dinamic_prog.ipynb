{
 "cells": [
  {
   "cell_type": "code",
   "execution_count": 29,
   "metadata": {},
   "outputs": [],
   "source": [
    "W=[8,9,10,11]\n",
    "P=[10,12,14,55]\n",
    "X=20\n",
    "mx=0\n",
    "mx_p=-1\n"
   ]
  },
  {
   "cell_type": "code",
   "execution_count": 22,
   "metadata": {},
   "outputs": [],
   "source": [
    "n=len(W)\n",
    "for i in range(1<<n):\n",
    "    cur_w=0\n",
    "    cur_price=0\n",
    "    runner=i\n",
    "    for j in range(n):\n",
    "        if runner%2==1:\n",
    "            cur_w+=W[j]\n",
    "            cur_price+=P[j]\n",
    "        runner>>2\n",
    "    if cur_w>X:continue\n",
    "    if mx_p<cur_price: \n",
    "        mx_p=cur_price\n",
    "        mx=i\n",
    "\n"
   ]
  },
  {
   "cell_type": "code",
   "execution_count": 78,
   "metadata": {},
   "outputs": [],
   "source": [
    "W=[8,9,10,11]\n",
    "P=[10,12,14,55]\n",
    "X=20\n",
    "mx=0\n",
    "mx_p=-1\n",
    "co=0\n",
    "dp=[[-1]*n for _ in range(X+1)]\n",
    "def dyn(x,k):\n",
    "    global co,dp\n",
    "    co+=1\n",
    "    if k<0:return 0\n",
    "    if dp[x][k]!= -1: return dp[x][k]\n",
    "    tk=0\n",
    "    if x-W[k]>=0:\n",
    "        tk =dyn(x-W[k],k-1)+P[k]\n",
    "    sk=dyn(x,k-1)\n",
    "    dp[x][k]= max(tk,sk)\n",
    "    \n",
    "    return dp[x][k]"
   ]
  },
  {
   "cell_type": "code",
   "execution_count": 25,
   "metadata": {},
   "outputs": [
    {
     "name": "stdout",
     "output_type": "stream",
     "text": [
      " -1\n"
     ]
    }
   ],
   "source": [
    "print(bin(mx)[:2:-1],mx_p)"
   ]
  },
  {
   "cell_type": "code",
   "execution_count": 79,
   "metadata": {},
   "outputs": [
    {
     "name": "stdout",
     "output_type": "stream",
     "text": [
      "67\n",
      "22\n"
     ]
    }
   ],
   "source": [
    "print(dyn(X,n-1))\n",
    "print(co)\n"
   ]
  },
  {
   "cell_type": "code",
   "execution_count": null,
   "metadata": {},
   "outputs": [],
   "source": [
    "for i in range(n):\n",
    "    dp[]"
   ]
  }
 ],
 "metadata": {
  "kernelspec": {
   "display_name": "Python 3",
   "language": "python",
   "name": "python3"
  },
  "language_info": {
   "codemirror_mode": {
    "name": "ipython",
    "version": 3
   },
   "file_extension": ".py",
   "mimetype": "text/x-python",
   "name": "python",
   "nbconvert_exporter": "python",
   "pygments_lexer": "ipython3",
   "version": "3.10.12"
  }
 },
 "nbformat": 4,
 "nbformat_minor": 2
}
