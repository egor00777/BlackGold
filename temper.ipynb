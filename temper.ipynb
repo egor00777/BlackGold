{
 "cells": [
  {
   "cell_type": "code",
   "execution_count": 9,
   "metadata": {},
   "outputs": [],
   "source": [
    "import math\n",
    "import numpy as np \n",
    "import pandas as pd\n",
    "import cv2"
   ]
  },
  {
   "cell_type": "code",
   "execution_count": 3,
   "metadata": {},
   "outputs": [],
   "source": [
    "\n"
   ]
  },
  {
   "cell_type": "code",
   "execution_count": 7,
   "metadata": {},
   "outputs": [],
   "source": [
    "def cur_price(h):\n",
    "    p = 0.85\n",
    "    k = 12.0 #эффективная проницаемость, мД (милиДарси)\n",
    "\n",
    "    SRPLast = 270.0 #среднее пластовое давление, атм (атмосфер)\n",
    "    zaboinoe_dav = 100.0 #забойное давление давление внизу скважины , атм\n",
    "    vazkost = 1.4 #вязкость нефти, сП (сантиПуаз)\n",
    "    obim_Koof = 1.15 #объёмный коэффициент нефти, д. ед.\n",
    "    Rk = 800.0 #радиус контура объёма, из которого добывает скважина нефть, м ????????????\n",
    "    Rc = 0.1 #радиус скважины, м\n",
    "    SkinFack = 0.0 #скин − фактор (показывает ухудшение фильтрационных свойств пласта вблизи скважины)\n",
    "\n",
    "\n",
    "\n",
    "\n",
    "\n",
    "\n",
    "    q = (p*k*h*(SRPLast - zaboinoe_dav))/(18.41*vazkost*obim_Koof*(math.log(Rk/Rc)-0.5+SkinFack))\n",
    "\n",
    "\n",
    "    def qt(koofB,koofD):\n",
    "        massiv = []\n",
    "\n",
    "        for shagVR in range(480):\n",
    "            QT = q/(1 + koofB * koofD * shagVR)**(1/koofB)\n",
    "            massiv.append(QT*30)\n",
    "        return massiv\n",
    "\n",
    "\n",
    "    massiv=qt(1.4,0.12)\n",
    "    price=[]\n",
    "    price_tonna=53_135.006\n",
    "    for n in range(40):\n",
    "        try:\n",
    "            summa=sum([massiv[i] for i in range(n*12,n*12+12)])\n",
    "            cost=summa*price_tonna\n",
    "\n",
    "            k=1/((1+0.17)**n)\n",
    "            price.append(k*cost)\n",
    "        except:\n",
    "            break\n",
    "\n",
    "    last_answer=sum(price)-60_000_000\n",
    "    return last_answer"
   ]
  },
  {
   "cell_type": "code",
   "execution_count": 12,
   "metadata": {},
   "outputs": [],
   "source": [
    "def f(row):\n",
    "  if row['R']>140: return 0\n",
    "  elif row['R']>100 : return 10\n",
    "  elif row['R']>80 : return 20\n",
    "\n",
    "  elif row['R']>35 : return 30\n",
    "\n",
    "  elif row['R']>20 : return 40\n",
    "  else: return 50"
   ]
  },
  {
   "cell_type": "code",
   "execution_count": 13,
   "metadata": {},
   "outputs": [],
   "source": [
    "def matrix(photo):\n",
    "    img = cv2.imread(photo)\n",
    "    hsv = cv2.cvtColor(img, cv2.COLOR_BGR2HSV)\n",
    "    df = pd.DataFrame([list(l) for l in hsv]).stack().apply(pd.Series)\n",
    "    df.index.name = 'st'\n",
    "    df.columns = list('RGB')\n",
    "\n",
    "    df['color']= df.apply (f, axis=1)\n",
    "\n",
    "    data=[[_ for _ in range(926)] for _ in range(664)]\n",
    "    for i in range(len(data)):\n",
    "        for j in range(len(data[0])):\n",
    "            data[i][j]=df.loc[i,j]['color']\n",
    "\n",
    "    data_sector_j=[]\n",
    "    for i in range(664):\n",
    "        for j in range(926//32):\n",
    "            data_sector_j+=[sum(data[i][j*32:j*32+32])//32]\n",
    "\n",
    "    data_sector_i=[]\n",
    "    for x in range(0,len(data_sector_j),28):\n",
    "        data_sector_i+=[data_sector_j[x:x+28]]\n",
    "\n",
    "    data_sector=[]\n",
    "    co=0\n",
    "    cash=np.array([0 for _ in range(28)])\n",
    "    for x in data_sector_i:\n",
    "        x = np.array(x)\n",
    "        if co==32: \n",
    "            co=0\n",
    "            data_sector+=[list(cash)]\n",
    "            cash=np.array([0 for _ in range(28)]) \n",
    "        cash+=x\n",
    "        co+=1\n",
    "\n",
    "    for i in range(len(data_sector)):\n",
    "        for j in range(len(data_sector[0])):\n",
    "            data_sector[i][j]//=32\n",
    "    return data_sector"
   ]
  },
  {
   "cell_type": "code",
   "execution_count": 14,
   "metadata": {},
   "outputs": [],
   "source": [
    "data=matrix('new_test_photo.png')\n",
    "data_mine=[[False for _ in range(len(data[0]))] for _ in range(len(data))]"
   ]
  },
  {
   "cell_type": "code",
   "execution_count": 19,
   "metadata": {},
   "outputs": [],
   "source": [
    "answer=0\n",
    "for i in range(len(data)):\n",
    "    for j in range(len(data[0])):\n",
    "        if data_mine[i][j]:\n",
    "            answer+=cur_price(data[i][j])"
   ]
  },
  {
   "cell_type": "code",
   "execution_count": 20,
   "metadata": {},
   "outputs": [
    {
     "data": {
      "text/plain": [
       "0"
      ]
     },
     "execution_count": 20,
     "metadata": {},
     "output_type": "execute_result"
    }
   ],
   "source": [
    "answer"
   ]
  },
  {
   "cell_type": "code",
   "execution_count": 22,
   "metadata": {},
   "outputs": [
    {
     "name": "stdout",
     "output_type": "stream",
     "text": [
      "[0, 0, 0, 0, 0, 0, 0, 5, 10, 10, 11, 12, 12, 12, 10, 10, 10, 10, 10, 10, 11, 12, 19, 20, 20, 20, 20, 20]\n",
      "[0, 0, 0, 0, 0, 0, 2, 10, 11, 14, 18, 19, 20, 20, 19, 18, 14, 11, 10, 10, 10, 10, 17, 20, 20, 20, 20, 20]\n",
      "[0, 0, 0, 0, 0, 0, 4, 10, 16, 20, 20, 21, 20, 20, 20, 20, 20, 18, 12, 10, 10, 10, 10, 16, 19, 20, 20, 20]\n",
      "[0, 0, 0, 0, 0, 0, 6, 13, 19, 23, 28, 30, 29, 26, 21, 20, 20, 20, 17, 10, 10, 10, 10, 10, 12, 17, 19, 20]\n",
      "[0, 0, 0, 0, 0, 1, 10, 18, 23, 30, 31, 33, 30, 30, 28, 20, 20, 20, 17, 10, 10, 10, 10, 10, 10, 11, 11, 15]\n",
      "[0, 0, 0, 0, 0, 7, 14, 21, 29, 35, 40, 40, 38, 30, 30, 23, 20, 20, 15, 10, 10, 10, 10, 10, 10, 10, 10, 10]\n",
      "[0, 0, 0, 0, 5, 11, 18, 25, 32, 40, 40, 39, 40, 34, 30, 24, 20, 19, 11, 10, 10, 10, 10, 10, 10, 10, 10, 10]\n",
      "[0, 0, 0, 4, 10, 15, 21, 29, 37, 41, 42, 42, 40, 36, 30, 23, 20, 17, 10, 10, 10, 10, 10, 10, 10, 10, 11, 10]\n",
      "[0, 0, 5, 9, 12, 19, 25, 30, 39, 40, 50, 42, 40, 34, 30, 20, 19, 11, 10, 10, 10, 10, 10, 10, 10, 10, 10, 10]\n",
      "[0, 6, 10, 10, 17, 20, 29, 33, 40, 39, 45, 42, 40, 32, 28, 20, 16, 10, 10, 10, 10, 10, 10, 10, 10, 10, 10, 10]\n",
      "[4, 10, 10, 13, 19, 22, 30, 34, 40, 40, 41, 40, 39, 30, 25, 20, 12, 10, 10, 10, 10, 10, 10, 10, 10, 10, 10, 10]\n",
      "[9, 10, 10, 17, 20, 23, 30, 32, 40, 40, 40, 40, 34, 30, 23, 20, 12, 10, 10, 10, 10, 10, 10, 10, 10, 10, 10, 10]\n",
      "[10, 10, 11, 19, 20, 24, 30, 30, 38, 40, 40, 37, 30, 30, 21, 20, 13, 10, 10, 10, 10, 10, 10, 10, 10, 10, 10, 10]\n",
      "[10, 10, 13, 20, 20, 23, 30, 30, 30, 34, 33, 30, 30, 27, 20, 20, 12, 10, 10, 10, 10, 10, 10, 10, 10, 10, 9, 8]\n",
      "[10, 10, 14, 20, 20, 20, 29, 30, 30, 30, 30, 30, 29, 22, 20, 19, 10, 10, 10, 10, 10, 10, 10, 9, 4, 1, 0, 0]\n",
      "[10, 10, 14, 20, 20, 20, 25, 30, 30, 30, 30, 30, 24, 20, 20, 18, 10, 10, 10, 10, 10, 10, 9, 2, 0, 0, 0, 0]\n",
      "[10, 10, 12, 20, 20, 20, 20, 24, 28, 29, 27, 23, 20, 20, 20, 15, 10, 10, 10, 10, 10, 10, 3, 0, 0, 0, 0, 0]\n",
      "[10, 10, 10, 18, 20, 20, 20, 20, 20, 20, 20, 20, 20, 20, 18, 10, 10, 10, 10, 10, 10, 5, 0, 0, 0, 0, 0, 0]\n",
      "[10, 10, 10, 14, 20, 20, 20, 20, 20, 20, 20, 20, 20, 18, 11, 10, 10, 10, 10, 10, 5, 0, 0, 0, 0, 0, 0, 0]\n",
      "[10, 10, 10, 10, 17, 20, 20, 20, 20, 20, 20, 19, 17, 11, 10, 10, 10, 10, 9, 3, 0, 0, 0, 0, 0, 0, 0, 0]\n"
     ]
    }
   ],
   "source": [
    "for _ in data:\n",
    "    print(_)"
   ]
  },
  {
   "cell_type": "code",
   "execution_count": null,
   "metadata": {},
   "outputs": [],
   "source": []
  }
 ],
 "metadata": {
  "kernelspec": {
   "display_name": "Python 3",
   "language": "python",
   "name": "python3"
  },
  "language_info": {
   "codemirror_mode": {
    "name": "ipython",
    "version": 3
   },
   "file_extension": ".py",
   "mimetype": "text/x-python",
   "name": "python",
   "nbconvert_exporter": "python",
   "pygments_lexer": "ipython3",
   "version": "3.10.12"
  }
 },
 "nbformat": 4,
 "nbformat_minor": 2
}
